{
 "cells": [
  {
   "cell_type": "markdown",
   "metadata": {},
   "source": [
    "# U.S. Medical Insurance Costs\n",
    "\n",
    "### Project goals \n",
    "1) Find average age of the patients \n",
    "2) Analyse the region of the majority of the patients \n",
    "3) Average costs between smokers vs non-smokers with no kids \n",
    "4) Figure out what the average age is for someone who has at least one child in this dataset. \n",
    "5) Find the average weight.\n",
    "### Dataset\n",
    "The CSV files consists of \n",
    "age,\n",
    "sex,\n",
    "bmi,\n",
    "children,\n",
    "smoker,\n",
    "region,\n",
    "charges,\n",
    "\n",
    "### Analysis \n",
    "Differentiate the data accordingto smokers vs non-smoker.After that, each age subgroup will be compared between males and females\n",
    "\n",
    "## Import Data Set"
   ]
  },
  {
   "cell_type": "code",
   "execution_count": 6,
   "metadata": {},
   "outputs": [],
   "source": [
    "import csv\n",
    "insurance_list = []\n",
    "with open('insurance.csv') as insurance_file:\n",
    "    insurance_data = csv.DictReader(insurance_file)\n",
    "    for item in insurance_data:\n",
    "        insurance_list.append(item)"
   ]
  },
  {
   "cell_type": "markdown",
   "metadata": {},
   "source": [
    "## Saving dataset via Python variables"
   ]
  },
  {
   "cell_type": "markdown",
   "metadata": {},
   "source": [
    "All numerical values are in the form of strings. We need to convert them to int "
   ]
  },
  {
   "cell_type": "code",
   "execution_count": 12,
   "metadata": {},
   "outputs": [],
   "source": [
    "for item in insurance_list:\n",
    "    item['age'] = int(item['age'])\n",
    "    item['bmi'] = float(item['bmi'])\n",
    "    item['children'] = int(item['children'])\n",
    "    item['charges'] = float(item['charges'])"
   ]
  },
  {
   "cell_type": "code",
   "execution_count": 15,
   "metadata": {},
   "outputs": [
    {
     "name": "stdout",
     "output_type": "stream",
     "text": [
      "The average age of the patients is 39.20702541106129\n"
     ]
    }
   ],
   "source": [
    "def get_average(dataset):\n",
    "    total = 0\n",
    "    total_num = len(dataset)\n",
    "    for item in dataset:\n",
    "        total += item['age']\n",
    "    age_average = total/total_num\n",
    "    return \"The average age of the patients is {}\".format(age_average)\n",
    "# testing the function\n",
    "print(get_average(insurance_list))"
   ]
  },
  {
   "cell_type": "markdown",
   "metadata": {},
   "source": [
    "## Average cost difference between smokers vs non-smoker"
   ]
  },
  {
   "cell_type": "code",
   "execution_count": 36,
   "metadata": {},
   "outputs": [
    {
     "name": "stdout",
     "output_type": "stream",
     "text": [
      "The average differnce of cost of medical insurance of smokers and non smokers who don't have kids is 23729.570618861326.\n"
     ]
    }
   ],
   "source": [
    "def cost_diff_smoker_vs_non_no_kids(data):\n",
    "    cost1 = 0\n",
    "    count1 = 0\n",
    "    cost2 = 0\n",
    "    count2 = 0\n",
    "    for item in data:\n",
    "        if (item['smoker'] == 'yes') and (item['children'] == 0):\n",
    "            cost1 += item['charges']\n",
    "            count1 += 1\n",
    "        if (item['smoker'] == 'no') and (item['children'] == 0):\n",
    "            cost2 += item['charges']\n",
    "            count2 += 1\n",
    "    avg = (cost1/count1) - (cost2/count2)\n",
    "    return \"The average differnce of cost of medical insurance of smokers and non smokers who don't have kids is {}.\".format(avg)\n",
    "# check the function\n",
    "print(cost_diff_smoker_vs_non_no_kids(insurance_list))"
   ]
  },
  {
   "cell_type": "code",
   "execution_count": 53,
   "metadata": {},
   "outputs": [
    {
     "name": "stdout",
     "output_type": "stream",
     "text": [
      "364\n"
     ]
    }
   ],
   "source": [
    "def max_region_patients(data):\n",
    "    north_west = 0\n",
    "    north_east = 0\n",
    "    south_east = 0\n",
    "    south_west = 0\n",
    "    elsewhere = 0\n",
    "    for items in data:\n",
    "        if items['region'] == 'northwest':\n",
    "            north_west += 1\n",
    "        elif items['region'] == 'northeast':\n",
    "            north_east +=1\n",
    "        elif items['region'] == 'southeast':\n",
    "            south_east += 1\n",
    "        elif items['region'] == 'southwest':\n",
    "            south_west += 1\n",
    "        else:\n",
    "            elsewhere += 1\n",
    "    max_of_region = max(north_west, north_east, south_east, elsewhere)\n",
    "    return max_of_region\n",
    "# check\n",
    "print(max_region_patients(insurance_list))"
   ]
  }
 ],
 "metadata": {
  "kernelspec": {
   "display_name": "Python 3",
   "language": "python",
   "name": "python3"
  },
  "language_info": {
   "codemirror_mode": {
    "name": "ipython",
    "version": 3
   },
   "file_extension": ".py",
   "mimetype": "text/x-python",
   "name": "python",
   "nbconvert_exporter": "python",
   "pygments_lexer": "ipython3",
   "version": "3.8.5"
  }
 },
 "nbformat": 4,
 "nbformat_minor": 4
}
